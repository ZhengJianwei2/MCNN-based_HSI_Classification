{
 "cells": [
  {
   "cell_type": "code",
   "execution_count": null,
   "metadata": {
    "scrolled": true
   },
   "outputs": [],
   "source": [
    "import tensorflow as tf\n",
    "import keras\n",
    "from keras.layers import Conv2D, Conv3D,ReLU, Flatten, Dense, Reshape, BatchNormalization, Lambda, AveragePooling2D, AveragePooling3D, Add, Concatenate\n",
    "from keras.layers import add\n",
    "import keras.backend as K\n",
    "from keras.layers import Dropout, Input\n",
    "from keras.models import Model, load_model\n",
    "from keras.optimizers import Adam, Adagrad, RMSprop\n",
    "from keras.callbacks import ModelCheckpoint\n",
    "from keras.utils import np_utils\n",
    "\n",
    "from sklearn.decomposition import PCA\n",
    "from sklearn.model_selection import train_test_split\n",
    "from sklearn.metrics import confusion_matrix, accuracy_score, classification_report, cohen_kappa_score\n",
    "\n",
    "from adabound import AdaBound\n",
    "import time\n",
    "from operator import truediv\n",
    "from plotly.offline import init_notebook_mode\n",
    "from subpixel_conv2d import SubpixelConv2D\n",
    "\n",
    "import numpy as np\n",
    "import matplotlib.pyplot as plt\n",
    "import scipy.io as sio\n",
    "import os\n",
    "import spectral\n",
    "\n",
    "os.environ['CUDA_VISIBLE_DEVICES'] = '0'\n",
    "\n",
    "init_notebook_mode(connected=True)\n",
    "%matplotlib inline"
   ]
  },
  {
   "cell_type": "raw",
   "metadata": {},
   "source": [
    "print(spectral.spy_colors)"
   ]
  },
  {
   "cell_type": "markdown",
   "metadata": {},
   "source": [
    "# Data"
   ]
  },
  {
   "cell_type": "code",
   "execution_count": null,
   "metadata": {},
   "outputs": [],
   "source": [
    "## GLOBAL VARIABLES\n",
    "dataset = 'IP' # IP和HU在下面控制训练样本量\n",
    "test_ratio = 0.995\n",
    "train_val_ratio = 1\n",
    "train_ratio = 1-test_ratio\n",
    "windowSize = 11\n",
    "if dataset == 'UP':\n",
    "    componentsNum = 20\n",
    "elif dataset == 'BW':\n",
    "    componentsNum = 50\n",
    "elif dataset == 'HU':\n",
    "    componentsNum = 50 # if test_ratio >= 0.99 else 25\n",
    "elif dataset == 'XZ':\n",
    "    componentsNum = 20\n",
    "elif dataset == 'IP':\n",
    "    componentsNum = 110\n",
    "else:\n",
    "    componentsNum = 30\n",
    "drop = 0.4"
   ]
  },
  {
   "cell_type": "markdown",
   "metadata": {},
   "source": [
    "data_path = os.path.join(os.getcwd(),'data')\n",
    "data = sio.loadmat(os.path.join(data_path, 'xuzhou_gt.mat'))# 假设文件名为1.mat\n",
    "print(data.keys())\n",
    "print(data)"
   ]
  },
  {
   "cell_type": "code",
   "execution_count": null,
   "metadata": {},
   "outputs": [],
   "source": [
    "def loadData(name):\n",
    "    data_path = os.path.join(os.getcwd(),'data')\n",
    "    if name == 'IP':\n",
    "        data = sio.loadmat(os.path.join(data_path, 'Indian_pines_corrected.mat'))['indian_pines_corrected']\n",
    "        labels = sio.loadmat(os.path.join(data_path, 'Indian_pines_gt.mat'))['indian_pines_gt']\n",
    "    elif name == 'KSC':\n",
    "        data = sio.loadmat(os.path.join(data_path, 'KSC.mat'))['KSC']\n",
    "        labels = sio.loadmat(os.path.join(data_path, 'KSC_gt.mat'))['KSC_gt']\n",
    "    elif name == 'SA':\n",
    "        data = sio.loadmat(os.path.join(data_path, 'Salinas_corrected.mat'))['salinas_corrected']\n",
    "        labels = sio.loadmat(os.path.join(data_path, 'Salinas_gt.mat'))['salinas_gt']\n",
    "    elif name == 'UP':\n",
    "        data = sio.loadmat(os.path.join(data_path, 'PaviaU.mat'))['paviaU']\n",
    "        labels = sio.loadmat(os.path.join(data_path, 'PaviaU_gt.mat'))['paviaU_gt']\n",
    "        # 349*1905*144\n",
    "    elif name == 'HU':\n",
    "        data = sio.loadmat(os.path.join(data_path, 'HoustonU.mat'))['houstonU'] # 601*2384*50\n",
    "        labels = sio.loadmat(os.path.join(data_path, 'HoustonU_gt.mat'))['houstonU_gt']\n",
    "    return data, labels"
   ]
  },
  {
   "cell_type": "code",
   "execution_count": null,
   "metadata": {},
   "outputs": [],
   "source": [
    "def splitTrainTestSet(X, y, testRatio, randomState=345):\n",
    "    X_train, X_test, y_train, y_test = train_test_split(X, y, test_size=testRatio, random_state=randomState, stratify=y)\n",
    "    return X_train, X_test, y_train, y_test"
   ]
  },
  {
   "cell_type": "code",
   "execution_count": null,
   "metadata": {},
   "outputs": [],
   "source": [
    "def applyPCA(X, numComponents=64):\n",
    "    newX = np.reshape(X, (-1, X.shape[2]))\n",
    "    print(newX.shape)\n",
    "    pca = PCA(n_components=numComponents, whiten=True)\n",
    "    newX = pca.fit_transform(newX)\n",
    "    print(newX.shape)\n",
    "    # print(pca.explained_variance_ratio_)\n",
    "    # print(pca.explained_variance_)\n",
    "    newX = np.reshape(newX, (X.shape[0],X.shape[1], numComponents))\n",
    "    return newX, pca, pca.explained_variance_ratio_"
   ]
  },
  {
   "cell_type": "code",
   "execution_count": null,
   "metadata": {},
   "outputs": [],
   "source": [
    "def padWithZeros(X, margin=2):\n",
    "    newX = np.zeros((X.shape[0] + 2 * margin, X.shape[1] + 2* margin, X.shape[2]),dtype=\"float16\")\n",
    "    x_offset = margin\n",
    "    y_offset = margin\n",
    "    newX[x_offset:X.shape[0] + x_offset, y_offset:X.shape[1] + y_offset, :] = X\n",
    "    return newX"
   ]
  },
  {
   "cell_type": "code",
   "execution_count": null,
   "metadata": {},
   "outputs": [],
   "source": [
    "def createPatches(X, y, windowSize=25, removeZeroLabels = True):\n",
    "    margin = int((windowSize - 1) / 2)\n",
    "    zeroPaddedX = padWithZeros(X, margin=margin)\n",
    "    # split patches\n",
    "    patchesData = np.zeros((X.shape[0] * X.shape[1], windowSize, windowSize, X.shape[2]),dtype=\"float16\")\n",
    "    patchesLabels = np.zeros((X.shape[0] * X.shape[1]),dtype=\"float16\")\n",
    "    patchIndex = 0\n",
    "    for r in range(margin, zeroPaddedX.shape[0] - margin):\n",
    "        for c in range(margin, zeroPaddedX.shape[1] - margin):\n",
    "            patch = zeroPaddedX[r - margin:r + margin + 1, c - margin:c + margin + 1]   \n",
    "            patchesData[patchIndex, :, :, :] = patch\n",
    "            patchesLabels[patchIndex] = y[r-margin, c-margin]\n",
    "            patchIndex = patchIndex + 1\n",
    "    if removeZeroLabels:\n",
    "        patchesData = patchesData[patchesLabels>0,:,:,:]\n",
    "        patchesLabels = patchesLabels[patchesLabels>0]\n",
    "        patchesLabels -= 1\n",
    "    return patchesData, patchesLabels"
   ]
  },
  {
   "cell_type": "code",
   "execution_count": null,
   "metadata": {},
   "outputs": [],
   "source": [
    "X, y = loadData(dataset)\n",
    "# X.shape, y.shape"
   ]
  },
  {
   "cell_type": "code",
   "execution_count": null,
   "metadata": {},
   "outputs": [],
   "source": [
    "X,pca,ratio = applyPCA(X,numComponents=componentsNum)\n",
    "X.shape"
   ]
  },
  {
   "cell_type": "code",
   "execution_count": null,
   "metadata": {},
   "outputs": [],
   "source": [
    "X, y = createPatches(X, y, windowSize=windowSize)\n",
    "X.shape, y.shape"
   ]
  },
  {
   "cell_type": "code",
   "execution_count": null,
   "metadata": {},
   "outputs": [],
   "source": [
    "if dataset != 'IP':\n",
    "    Xtrain, Xtest, ytrain, ytest = splitTrainTestSet(X, y, test_ratio)\n",
    "    Xvalid, Xtest, yvalid, ytest = splitTrainTestSet(Xtest, ytest, (test_ratio-train_ratio/train_val_ratio)/test_ratio)\n",
    "# Xtrain = tf.Session().run(randn(Xtrain))\n",
    "# Xtrain = add_gaussian_noise(Xtrain, noise_sigma)"
   ]
  },
  {
   "cell_type": "code",
   "execution_count": null,
   "metadata": {},
   "outputs": [],
   "source": [
    "import random\n",
    "import math\n",
    "from itertools import chain\n",
    "def train_test_random_new(y,n,number):\n",
    "    K = max(y)+1\n",
    "    train_index = []\n",
    "    val_indexes = []\n",
    "    test_indexes = []\n",
    "    print(\"********\")\n",
    "    print(n)\n",
    "    for i in range(int(K)):\n",
    "        index1 = [j for j in range(len(y)) if y[j]==int(i)]\n",
    "        random.shuffle(index1)\n",
    "        if len(index1)/2>n:\n",
    "            train_index.append(index1[0:n])\n",
    "            val_indexes.append(index1[n:2*n])\n",
    "            test_indexes.append(index1[2*n:])\n",
    "        else:\n",
    "            train_index.append(index1[0:math.floor(len(index1)/2)])\n",
    "            val_indexes.append(index1[math.floor(len(index1)/2):2*math.floor(len(index1)/2)])\n",
    "            test_indexes.append(index1[2*math.floor(len(index1)/2):])\n",
    "    train_index = list(chain.from_iterable(train_index))\n",
    "    val_indexes = list(chain.from_iterable(val_indexes))\n",
    "    test_indexes = list(chain.from_iterable(test_indexes))\n",
    "    return train_index,val_indexes,test_indexes"
   ]
  },
  {
   "cell_type": "code",
   "execution_count": null,
   "metadata": {},
   "outputs": [],
   "source": [
    "if dataset == 'IP':\n",
    "    no_classes = 16\n",
    "    no_train = no_classes * 10 # 10表示每个样本类取10个\n",
    "    no_val = no_train\n",
    "    no_test = 10249-no_train*2\n",
    "    train_index,val_indexes,test_indexes = train_test_random_new(y,math.floor(int(no_train/no_classes)),no_train)\n",
    "    print(train_index)"
   ]
  },
  {
   "cell_type": "code",
   "execution_count": null,
   "metadata": {},
   "outputs": [],
   "source": [
    "if dataset == 'IP':\n",
    "    Xtrain = X[train_index,:,:,:]\n",
    "    ytrain = y[train_index,]"
   ]
  },
  {
   "cell_type": "code",
   "execution_count": null,
   "metadata": {},
   "outputs": [],
   "source": [
    "class_sum = [0,0,0,0,0,0,0,0,0,0,0,0,0,0,0,0,0,0,0,0]\n",
    "for i in ytrain:\n",
    "    class_sum[int(i)] += 1\n",
    "print(class_sum)"
   ]
  },
  {
   "cell_type": "code",
   "execution_count": null,
   "metadata": {},
   "outputs": [],
   "source": [
    "Xtrain = Xtrain.reshape(-1, windowSize, windowSize, componentsNum, 1)\n",
    "ytrain = np_utils.to_categorical(ytrain)"
   ]
  },
  {
   "cell_type": "code",
   "execution_count": null,
   "metadata": {},
   "outputs": [],
   "source": [
    "print(Xtrain.shape)"
   ]
  },
  {
   "cell_type": "code",
   "execution_count": null,
   "metadata": {},
   "outputs": [],
   "source": [
    "if dataset == 'IP':\n",
    "    Xvalid = X[val_indexes,:,:,:]\n",
    "    yvalid = y[val_indexes,]"
   ]
  },
  {
   "cell_type": "code",
   "execution_count": null,
   "metadata": {},
   "outputs": [],
   "source": [
    "print(Xvalid.shape)"
   ]
  },
  {
   "cell_type": "code",
   "execution_count": null,
   "metadata": {},
   "outputs": [],
   "source": [
    "Xvalid = Xvalid.reshape(-1, windowSize, windowSize, componentsNum, 1)\n",
    "yvalid = np_utils.to_categorical(yvalid)"
   ]
  },
  {
   "cell_type": "code",
   "execution_count": null,
   "metadata": {},
   "outputs": [],
   "source": [
    "if dataset == 'IP':\n",
    "    Xtest = X[test_indexes,:,:,:]\n",
    "    ytest = y[test_indexes,]"
   ]
  },
  {
   "cell_type": "code",
   "execution_count": null,
   "metadata": {},
   "outputs": [],
   "source": [
    "class_sum = [0,0,0,0,0,0,0,0,0,0,0,0,0,0,0,0,0,0,0,0]\n",
    "for i in ytest:\n",
    "    class_sum[int(i)] += 1\n",
    "print(class_sum)"
   ]
  },
  {
   "cell_type": "code",
   "execution_count": null,
   "metadata": {},
   "outputs": [],
   "source": [
    "print(Xtest.shape)"
   ]
  },
  {
   "cell_type": "markdown",
   "metadata": {},
   "source": [
    "# Train"
   ]
  },
  {
   "cell_type": "code",
   "execution_count": null,
   "metadata": {},
   "outputs": [],
   "source": [
    "if dataset == 'UP':\n",
    "    output_units = 9\n",
    "elif dataset == 'KSC':\n",
    "    output_units = 13\n",
    "elif dataset == 'BW':\n",
    "    output_units = 14\n",
    "elif dataset == 'HU':\n",
    "    output_units = 20\n",
    "elif dataset == 'XZ':\n",
    "    output_units = 9\n",
    "else:\n",
    "    output_units = 16"
   ]
  },
  {
   "cell_type": "code",
   "execution_count": null,
   "metadata": {},
   "outputs": [],
   "source": [
    "## implementation of covariance pooling layers\n",
    "def cov_pooling(features):\n",
    "    shape_f = features.shape.as_list()\n",
    "    centers_batch = tf.reduce_mean(tf.transpose(features, [0, 2, 1]),2) # 均值\n",
    "    centers_batch = tf.reshape(centers_batch, [-1, 1, shape_f[2]])\n",
    "    centers_batch = tf.tile(centers_batch, [1, shape_f[1], 1]) # 张量扩展 \n",
    "    tmp = tf.subtract(features, centers_batch)\n",
    "    tmp_t = tf.transpose(tmp, [0, 2, 1]) \n",
    "    features_t = 1/tf.cast((shape_f[1]-1),tf.float32)*tf.matmul(tmp_t, tmp)  \n",
    "    trace_t = tf.trace(features_t)\n",
    "    trace_t = tf.reshape(trace_t, [-1, 1])\n",
    "    trace_t = tf.tile(trace_t, [1, shape_f[2]])\n",
    "    trace_t = 0.0001*tf.matrix_diag(trace_t)\n",
    "    return tf.add(features_t,trace_t)"
   ]
  },
  {
   "cell_type": "code",
   "execution_count": null,
   "metadata": {},
   "outputs": [],
   "source": [
    "def feature_vector(features):\n",
    "    # features，是对称的，由于张量无法像矩阵一样直接取上三角数据拉成一维向量\n",
    "    shape_f = features.shape.as_list()\n",
    "    feature_upper = tf.linalg.band_part(features,0,shape_f[2])\n",
    "    return feature_upper"
   ]
  },
  {
   "cell_type": "markdown",
   "metadata": {},
   "source": [
    "def upsample(data):\n",
    "    # (None,25,25,30,1)\n",
    "    shape_f = data.shape.as_list()\n",
    "    data = tf.reshape(data, [-1, shape_f[1], shape_f[2], shape_f[3]*shape_f[4]])\n",
    "    data = tf.image.resize_images(images=data, size=[shape_f[1]*2+1, shape_f[2]*2+1], method=tf.image.ResizeMethod.NEAREST_NEIGHBOR)\n",
    "    data = tf.reshape(data, [-1, shape_f[1]*2+1, shape_f[2]*2+1, shape_f[3], shape_f[4]])\n",
    "    return data"
   ]
  },
  {
   "cell_type": "markdown",
   "metadata": {},
   "source": [
    "def upsample2(data):\n",
    "    shape_f = data.shape.as_list()\n",
    "    data = tf.reshape(data, [-1, shape_f[1], shape_f[2], shape_f[3]*shape_f[4]])\n",
    "    data = tf.image.resize_images(images=data, size=[shape_f[1]*2, shape_f[2]*2], method=tf.image.ResizeMethod.NEAREST_NEIGHBOR)\n",
    "    data = tf.reshape(data, [-1, shape_f[1]*2, shape_f[2]*2, shape_f[3], shape_f[4]])\n",
    "    return data"
   ]
  },
  {
   "cell_type": "code",
   "execution_count": null,
   "metadata": {},
   "outputs": [],
   "source": [
    "def UpSampling(data):\n",
    "    shape_f = data.shape.as_list()#(None, 12, 12, 14, 8)\n",
    "    data = tf.transpose(data, [0, 1, 2, 3, 4])\n",
    "    bb = tf.reshape(data, [-1, shape_f[1], shape_f[2], shape_f[3] * shape_f[4]])\n",
    "    # NEAREST_NEIGHBOR   BILINEAR\n",
    "    data_lh = tf.image.resize_images(images=bb, size=[shape_f[1]*2+1, shape_f[2]*2+1], method=tf.image.ResizeMethod.NEAREST_NEIGHBOR)\n",
    "    data = tf.reshape(data_lh, [-1, shape_f[1]*2+1, shape_f[2]*2+1, shape_f[3], shape_f[4]])\n",
    "    data = tf.transpose(data, [0, 1, 2, 3, 4])\n",
    "    return data"
   ]
  },
  {
   "cell_type": "code",
   "execution_count": null,
   "metadata": {},
   "outputs": [],
   "source": [
    "def UpSampling2(data):\n",
    "    shape_f = data.shape.as_list()#(None, 12, 12, 14, 8)\n",
    "    data = tf.transpose(data, [0, 1, 2, 3, 4])\n",
    "    bb = tf.reshape(data, [-1, shape_f[1], shape_f[2], shape_f[3] * shape_f[4]])\n",
    "    data_lh = tf.image.resize_images(images=bb, size=[shape_f[1]*2, shape_f[2]*2], method=tf.image.ResizeMethod.NEAREST_NEIGHBOR)\n",
    "    data = tf.reshape(data_lh, [-1, shape_f[1]*2, shape_f[2]*2, shape_f[3], shape_f[4]])\n",
    "    data = tf.transpose(data, [0, 1, 2, 3, 4])\n",
    "    return data"
   ]
  },
  {
   "cell_type": "code",
   "execution_count": null,
   "metadata": {
    "scrolled": true
   },
   "outputs": [],
   "source": [
    "## input layer\n",
    "input_layer = Input((windowSize, windowSize, componentsNum, 1))\n",
    "\n",
    "## convolutional layers\n",
    "# 3D Octave Conv1\n",
    "data_hh_1 = Conv3D(filters=8, kernel_size=(3, 3, 3), activation='relu', padding='SAME')(input_layer)\n",
    "high_to_low_1 = AveragePooling3D(pool_size=(2,2,1))(input_layer)\n",
    "data_hl_1 = Conv3D(filters=8, kernel_size=(3, 3, 3), activation='relu', padding='SAME')(high_to_low_1)\n",
    "\n",
    "# 3D Octave Conv2\n",
    "data_hh_2 = Conv3D(filters=16, kernel_size=(3, 3, 3), activation='relu', padding='SAME')(data_hh_1)\n",
    "data_down_2 = AveragePooling3D(pool_size=(2,2,1))(data_hh_1)\n",
    "data_hl_2 = Conv3D(filters=16, kernel_size=(3, 3, 3), activation='relu', padding='SAME')(data_down_2)\n",
    "\n",
    "data_ll_2 = Conv3D(filters=16, kernel_size=(3, 3, 3), activation='relu', padding='SAME')(data_hl_1)\n",
    "data_lh_2 = Conv3D(filters=16, kernel_size=(3, 3, 3), activation='relu', padding='SAME')(data_hl_1)\n",
    "h_1_shape = data_hh_2._keras_shape\n",
    "data_up_2 = Lambda(UpSampling,output_shape=(h_1_shape[1], h_1_shape[2], h_1_shape[3], h_1_shape[4]),mask=None,arguments=None)(data_lh_2)\n",
    "\n",
    "data_h_2 = add([data_hh_2, data_up_2])\n",
    "data_l_2 = add([data_hl_2, data_ll_2])\n",
    "\n",
    "# pool\n",
    "data_down_3 = AveragePooling3D(pool_size=(2,2,1))(data_h_2)\n",
    "data_hl_3 = Conv3D(filters=32, kernel_size=(3, 3, 3), activation='relu', padding='SAME')(data_down_3)\n",
    "data_ll_3 = Conv3D(filters=32, kernel_size=(3, 3, 3), activation='relu', padding='SAME')(data_l_2)\n",
    "conv_layer3 = add([data_hl_3, data_ll_3])\n",
    "\n",
    "conv3d_shape = conv_layer3._keras_shape\n",
    "conv_layer3 = Reshape((conv3d_shape[1], conv3d_shape[2], conv3d_shape[3]*conv3d_shape[4]))(conv_layer3)\n",
    "conv3d_shape = conv_layer3._keras_shape\n",
    "\n",
    "conv_layer4 = Conv2D(filters=512, kernel_size=(1,1), activation='relu')(conv_layer3)\n",
    "conv2d_shape = conv_layer4._keras_shape\n",
    "conv_layer4 = SubpixelConv2D(upsampling_factor=16)(conv_layer4)\n",
    "\n",
    "flatten_layer = Flatten()(conv_layer4)\n",
    "\n",
    "## fully connected layers\n",
    "dense_layer1 = Dense(units=256, activation='relu')(flatten_layer)\n",
    "dense_layer1 = Dropout(drop)(dense_layer1)\n",
    "dense_layer2 = Dense(units=128, activation='relu')(dense_layer1)\n",
    "dense_layer2 = Dropout(drop)(dense_layer2)\n",
    "output_layer = Dense(units=output_units, activation='softmax')(dense_layer2)"
   ]
  },
  {
   "cell_type": "code",
   "execution_count": null,
   "metadata": {},
   "outputs": [],
   "source": [
    "# define the model with input layer and output layer\n",
    "model = Model(inputs=input_layer, outputs=output_layer)"
   ]
  },
  {
   "cell_type": "raw",
   "metadata": {},
   "source": [
    "model = load_model('Oct-MCNN-CP.h5', custom_objects={'SubpixelConv2D': SubpixelConv2D,'tf': tf})\n",
    "adam = Adam(lr=0.001, decay=1e-06)\n",
    "model.load_weights(\"best-model.hdf5\")"
   ]
  },
  {
   "cell_type": "code",
   "execution_count": null,
   "metadata": {
    "scrolled": false
   },
   "outputs": [],
   "source": [
    "model.summary()\n",
    "model.save('Oct-MCNN-PS.h5')"
   ]
  },
  {
   "cell_type": "code",
   "execution_count": null,
   "metadata": {},
   "outputs": [],
   "source": [
    "# compiling the model\n",
    "adam = Adam(lr=0.001, decay=1e-06)\n",
    "model.compile(loss='categorical_crossentropy', optimizer=adam, metrics=['accuracy'])"
   ]
  },
  {
   "cell_type": "code",
   "execution_count": null,
   "metadata": {},
   "outputs": [],
   "source": [
    "# checkpoint\n",
    "filepath = \"best-model.hdf5\"\n",
    "checkpoint = ModelCheckpoint(filepath, monitor='val_acc', verbose=1, save_best_only=True, mode='auto')\n",
    "callbacks_list = [checkpoint]"
   ]
  },
  {
   "cell_type": "code",
   "execution_count": null,
   "metadata": {
    "scrolled": true
   },
   "outputs": [],
   "source": [
    "start = time.time()\n",
    "history = model.fit(x=Xtrain, y=ytrain, batch_size=256, epochs=100, validation_data=(Xvalid,yvalid), callbacks=callbacks_list, class_weight='auto')  #,validation_split=(1/3) \n",
    "end = time.time()\n",
    "print((end - start)/60)"
   ]
  },
  {
   "cell_type": "code",
   "execution_count": null,
   "metadata": {},
   "outputs": [],
   "source": [
    "plt.figure(figsize=(7,7))\n",
    "plt.grid()\n",
    "plt.plot(history.history['loss'])\n",
    "plt.ylabel('Loss')\n",
    "plt.xlabel('Epochs')\n",
    "plt.legend(['Training','Validation'], loc='upper right')\n",
    "plt.savefig(\"loss_curve.pdf\")\n",
    "plt.show()"
   ]
  },
  {
   "cell_type": "code",
   "execution_count": null,
   "metadata": {},
   "outputs": [],
   "source": [
    "plt.figure(figsize=(5,5))\n",
    "plt.ylim(0,1.1)\n",
    "plt.grid()\n",
    "plt.plot(history.history['acc'])\n",
    "plt.ylabel('Accuracy')\n",
    "plt.xlabel('Epochs')\n",
    "plt.legend(['Training','Validation'])\n",
    "plt.savefig(\"acc_curve.pdf\")\n",
    "plt.show()"
   ]
  },
  {
   "cell_type": "markdown",
   "metadata": {},
   "source": [
    "# Test"
   ]
  },
  {
   "cell_type": "code",
   "execution_count": null,
   "metadata": {},
   "outputs": [],
   "source": [
    "# load best weights\n",
    "model.load_weights(\"best-model.hdf5\")\n",
    "model.compile(loss='categorical_crossentropy', optimizer=adam, metrics=['accuracy'])"
   ]
  },
  {
   "cell_type": "code",
   "execution_count": null,
   "metadata": {},
   "outputs": [],
   "source": [
    "Xtest = Xtest.reshape(-1, windowSize, windowSize, componentsNum, 1)\n",
    "# Xtest.shape"
   ]
  },
  {
   "cell_type": "code",
   "execution_count": null,
   "metadata": {},
   "outputs": [],
   "source": [
    "ytest = np_utils.to_categorical(ytest)\n",
    "# ytest.shape"
   ]
  },
  {
   "cell_type": "code",
   "execution_count": null,
   "metadata": {},
   "outputs": [],
   "source": [
    "Y_pred_test = model.predict(Xtest)\n",
    "y_pred_test = np.argmax(Y_pred_test, axis=1)\n",
    "\n",
    "classification = classification_report(np.argmax(ytest, axis=1), y_pred_test, digits=4)\n",
    "print(classification)"
   ]
  },
  {
   "cell_type": "code",
   "execution_count": null,
   "metadata": {},
   "outputs": [],
   "source": [
    "def AA_andEachClassAccuracy(confusion_matrix):\n",
    "    counter = confusion_matrix.shape[0]\n",
    "    list_diag = np.diag(confusion_matrix)\n",
    "    list_raw_sum = np.sum(confusion_matrix, axis=1)\n",
    "    each_acc = np.nan_to_num(truediv(list_diag, list_raw_sum))\n",
    "    average_acc = np.mean(each_acc)\n",
    "    return each_acc, average_acc"
   ]
  },
  {
   "cell_type": "code",
   "execution_count": null,
   "metadata": {},
   "outputs": [],
   "source": [
    "def reports (X_test,y_test,name):\n",
    "    start = time.time()\n",
    "    Y_pred = model.predict(X_test)\n",
    "    y_pred = np.argmax(Y_pred, axis=1)\n",
    "    end = time.time()\n",
    "    print(end - start)\n",
    "    if name == 'IP':\n",
    "        target_names = ['Alfalfa', 'Corn-notill', 'Corn-mintill', 'Corn',\n",
    "                        'Grass-pasture', 'Grass-trees', 'Grass-pasture-mowed', \n",
    "                        'Hay-windrowed', 'Oats', 'Soybean-notill', 'Soybean-mintill',\n",
    "                        'Soybean-clean', 'Wheat', 'Woods', 'Buildings-Grass-Trees-Drives',\n",
    "                        'Stone-Steel-Towers']\n",
    "    elif name == 'KSC':\n",
    "        target_names = ['Scrub','Willow-swamp','CP-hammock','Slash-pine','Oak/Broadleaf','Hardwood','Swamp','Graminoid-marsh'\n",
    "                        ,'Spartina-marsh','Cattail-marsh','Salt-marsh','Mud-flats','Water']\n",
    "    elif name == 'SA':\n",
    "        target_names = ['Brocoli_green_weeds_1','Brocoli_green_weeds_2','Fallow','Fallow_rough_plow','Fallow_smooth',\n",
    "                        'Stubble','Celery','Grapes_untrained','Soil_vinyard_develop','Corn_senesced_green_weeds',\n",
    "                        'Lettuce_romaine_4wk','Lettuce_romaine_5wk','Lettuce_romaine_6wk','Lettuce_romaine_7wk',\n",
    "                        'Vinyard_untrained','Vinyard_vertical_trellis']\n",
    "    elif name == 'UP':\n",
    "        target_names = ['Asphalt','Meadows','Gravel','Trees', 'Painted metal sheets','Bare Soil','Bitumen',\n",
    "                        'Self-Blocking Bricks','Shadows']\n",
    "    elif name == 'BW':\n",
    "        target_names = ['Water','Hippo grass','Floodplain grasses1','Floodplain grasses2', 'Reeds1','Riparian','Firescar2',\n",
    "                        'Island interior','Acacia woodlands','Acacia shrublands','Acacia grasslands','Short mopane','Mixed mopane','Exposed soils']\n",
    "    elif name == 'HU':\n",
    "        target_names = ['Healthy grass','Stressed grass','Artificial turf','Evergreen trees', 'Deciduous trees','Bare earth','Water',\n",
    "                        'Residential buildings','Non-residential buildings','Roads','Sidewalks','Crosswalks','Major thoroughfares','Highways',\n",
    "                       'Railways','Paved parking lots','Unpaved parking lots','Cars','Trains','Stadium seats']\n",
    "    elif name == 'XZ':\n",
    "        target_names = ['class1','class2','class3','class4', 'class5','class6','class7','class8','class9']\n",
    "        \n",
    "    classification = classification_report(np.argmax(y_test, axis=1), y_pred, target_names=target_names, digits=4)\n",
    "    oa = accuracy_score(np.argmax(y_test, axis=1), y_pred)\n",
    "    confusion = confusion_matrix(np.argmax(y_test, axis=1), y_pred)\n",
    "    each_acc, aa = AA_andEachClassAccuracy(confusion)\n",
    "    kappa = cohen_kappa_score(np.argmax(y_test, axis=1), y_pred)\n",
    "    score = model.evaluate(X_test, y_test, batch_size=32) \n",
    "    Test_Loss =  score[0]*100\n",
    "    Test_accuracy = score[1]*100\n",
    "    \n",
    "    return classification, confusion, Test_Loss, Test_accuracy, oa*100, each_acc*100, aa*100, kappa*100"
   ]
  },
  {
   "cell_type": "code",
   "execution_count": null,
   "metadata": {},
   "outputs": [],
   "source": [
    "classification, confusion, Test_loss, Test_accuracy, oa, each_acc, aa, kappa = reports(Xtest,ytest,dataset)\n",
    "classification = str(classification)\n",
    "confusion1 = str(confusion)\n",
    "file_name = \"classification_report.txt\"\n",
    "\n",
    "with open(file_name, 'w') as x_file:\n",
    "    x_file.write('{} Test loss (%)'.format(Test_loss))\n",
    "    x_file.write('\\n')\n",
    "    x_file.write('{} Test accuracy (%)'.format(Test_accuracy))\n",
    "    x_file.write('\\n')\n",
    "    x_file.write('\\n')\n",
    "    x_file.write('{} Kappa accuracy (%)'.format(kappa))\n",
    "    x_file.write('\\n')\n",
    "    x_file.write('{} Overall accuracy (%)'.format(oa))\n",
    "    x_file.write('\\n')\n",
    "    x_file.write('{} Average accuracy (%)'.format(aa))\n",
    "    x_file.write('\\n')\n",
    "    x_file.write('\\n')\n",
    "    x_file.write('{}'.format(classification))\n",
    "    x_file.write('\\n')\n",
    "    x_file.write('{}'.format(confusion1))"
   ]
  },
  {
   "cell_type": "markdown",
   "metadata": {},
   "source": [
    "labels = ['1', '2', '3', '4', '5', '6', '7', '8', '9', '10', '11', '12', '13', '14', '15', '16']\n",
    "tick_marks = np.array(range(len(labels))) + 0.5\n",
    "\n",
    "def plot_confusion_matrix(cm, title='Confusion Matrix', cmap=plt.cm.binary):\n",
    "    plt.imshow(cm, interpolation='nearest', cmap=cmap)\n",
    "    plt.title(title)\n",
    "    plt.colorbar()\n",
    "    xlocations = np.array(range(len(labels)))\n",
    "    plt.xticks(xlocations, labels, rotation=90)\n",
    "    plt.yticks(xlocations, labels)\n",
    "    plt.ylabel('True label')\n",
    "    plt.xlabel('Predicted label')\n",
    "    \n",
    "cm = confusion\n",
    "np.set_printoptions(precision=2)\n",
    "cm_normalized = confusion.astype('float') / cm.sum(axis=1)[:, np.newaxis]\n",
    "plt.figure(figsize=(12, 8), dpi=120)\n",
    "\n",
    "ind_array = np.arange(len(labels))\n",
    "x, y = np.meshgrid(ind_array, ind_array)\n",
    "\n",
    "for x_val, y_val in zip(x.flatten(), y.flatten()):\n",
    "    c = cm_normalized[y_val][x_val]\n",
    "    if c > 0.01:\n",
    "        plt.text(x_val, y_val, \"%0.2f\" % (c,), color='red', fontsize=7, va='center', ha='center')\n",
    "# offset the tick\n",
    "plt.gca().set_xticks(tick_marks, minor=True)\n",
    "plt.gca().set_yticks(tick_marks, minor=True)\n",
    "plt.gca().xaxis.set_ticks_position('none')\n",
    "plt.gca().yaxis.set_ticks_position('none')\n",
    "plt.grid(True, which='minor', linestyle='-')\n",
    "plt.gcf().subplots_adjust(bottom=0.15)\n",
    "\n",
    "plot_confusion_matrix(cm_normalized, title='Normalized confusion matrix')\n",
    "plt.show()"
   ]
  },
  {
   "cell_type": "markdown",
   "metadata": {},
   "source": [
    "# Run Data"
   ]
  },
  {
   "cell_type": "code",
   "execution_count": null,
   "metadata": {},
   "outputs": [],
   "source": [
    "def Patch(data,height_index,width_index):\n",
    "    height_slice = slice(height_index, height_index+PATCH_SIZE)\n",
    "    width_slice = slice(width_index, width_index+PATCH_SIZE)\n",
    "    patch = data[height_slice, width_slice, :]\n",
    "    return patch"
   ]
  },
  {
   "cell_type": "code",
   "execution_count": null,
   "metadata": {},
   "outputs": [],
   "source": [
    "X, y = loadData(dataset)"
   ]
  },
  {
   "cell_type": "code",
   "execution_count": null,
   "metadata": {},
   "outputs": [],
   "source": [
    "height = y.shape[0]\n",
    "width = y.shape[1]\n",
    "PATCH_SIZE = windowSize"
   ]
  },
  {
   "cell_type": "code",
   "execution_count": null,
   "metadata": {},
   "outputs": [],
   "source": [
    "X,pca,ratio = applyPCA(X,numComponents=componentsNum)\n",
    "# X = wightRatio(X,componentsNum,ratio)\n",
    "# X = infoChange(X,componentsNum)"
   ]
  },
  {
   "cell_type": "code",
   "execution_count": null,
   "metadata": {},
   "outputs": [],
   "source": [
    "X = padWithZeros(X, PATCH_SIZE//2)"
   ]
  },
  {
   "cell_type": "markdown",
   "metadata": {},
   "source": [
    "# calculate the predicted image\n",
    "outputs = np.zeros((height,width))\n",
    "for i in range(height):\n",
    "    for j in range(width):\n",
    "        target = int(y[i,j])\n",
    "        if target == 0 :\n",
    "            continue\n",
    "        else :\n",
    "            image_patch=Patch(X,i,j)\n",
    "            X_test_image = image_patch.reshape(1,image_patch.shape[0],image_patch.shape[1], image_patch.shape[2], 1).astype('float32') \n",
    "            prediction = (model.predict(X_test_image))\n",
    "            prediction = np.argmax(prediction, axis=1)\n",
    "            outputs[i][j] = prediction+1"
   ]
  },
  {
   "cell_type": "code",
   "execution_count": null,
   "metadata": {},
   "outputs": [],
   "source": [
    "# calculate the predicted image\n",
    "outputs = np.zeros((height,width),dtype=\"float16\")\n",
    "outputs2 = np.zeros((height,width),dtype=\"float16\")\n",
    "for i in range(height):\n",
    "    for j in range(width):            \n",
    "        target = int(y[i,j])\n",
    "        if target == 0 :\n",
    "            image_patch=Patch(X,i,j)\n",
    "            X_test_image = image_patch.reshape(1,image_patch.shape[0],image_patch.shape[1], image_patch.shape[2], 1).astype('float32')                                   \n",
    "            prediction2 = (model.predict(X_test_image))\n",
    "            prediction2 = np.argmax(prediction2, axis=1)\n",
    "            outputs2[i][j] = prediction2+1\n",
    "        else :\n",
    "            image_patch=Patch(X,i,j)\n",
    "            X_test_image = image_patch.reshape(1,image_patch.shape[0],image_patch.shape[1], image_patch.shape[2], 1).astype('float32')                                   \n",
    "            prediction = (model.predict(X_test_image))\n",
    "            prediction = np.argmax(prediction, axis=1)\n",
    "            outputs[i][j] = prediction+1\n",
    "            outputs2[i][j] = prediction+1"
   ]
  },
  {
   "cell_type": "markdown",
   "metadata": {},
   "source": [
    "# calculate the predicted image\n",
    "outputs = np.zeros((height,width),dtype=\"float16\")\n",
    "for i in range(height):\n",
    "    for j in range(width):            \n",
    "        target = int(y[i,j])\n",
    "\n",
    "        image_patch=Patch(X,i,j)\n",
    "        X_test_image = image_patch.reshape(1,image_patch.shape[0],image_patch.shape[1], image_patch.shape[2], 1).astype('float32') \n",
    "        prediction = (model.predict(X_test_image))\n",
    "        prediction = np.argmax(prediction, axis=1)\n",
    "        outputs[i][j] = prediction+1"
   ]
  },
  {
   "cell_type": "markdown",
   "metadata": {},
   "source": [
    "outputs2 = np.zeros((height,width),dtype=\"float16\")\n",
    "for i in range(height):\n",
    "    for j in range(width):\n",
    "        target = int(y[i,j])\n",
    "        if target == 0 :\n",
    "            continue\n",
    "        else :\n",
    "            image_patch=Patch(X,i,j)\n",
    "            X_test_image = image_patch.reshape(1,image_patch.shape[0],image_patch.shape[1], image_patch.shape[2], 1).astype('float32')                                   \n",
    "            prediction2 = (model.predict(X_test_image))\n",
    "            prediction2 = np.argmax(prediction2, axis=1)\n",
    "            outputs2[i][j] = prediction2+1"
   ]
  },
  {
   "cell_type": "code",
   "execution_count": null,
   "metadata": {},
   "outputs": [],
   "source": [
    "import spectral\n",
    "ground_truth = spectral.imshow(classes = y,figsize =(7,7))\n",
    "predict_image = spectral.imshow(classes = outputs.astype(int),figsize =(7,7))\n",
    "predict_image2 = spectral.imshow(classes = outputs2.astype(int),figsize =(7,7))\n",
    "spectral.save_rgb(\"predictions.png\", outputs.astype(int), colors=spectral.spy_colors)\n",
    "spectral.save_rgb(\"predictions2.png\", outputs2.astype(int), colors=spectral.spy_colors)"
   ]
  },
  {
   "cell_type": "code",
   "execution_count": null,
   "metadata": {},
   "outputs": [],
   "source": [
    "import spectral\n",
    "ground_truth = spectral.imshow(classes = y,figsize =(7,7))\n",
    "spectral.save_rgb(\"UH_GT.png\", y, colors=spectral.spy_colors)"
   ]
  },
  {
   "cell_type": "markdown",
   "metadata": {
    "collapsed": true
   },
   "source": [
    "### "
   ]
  },
  {
   "cell_type": "code",
   "execution_count": null,
   "metadata": {},
   "outputs": [],
   "source": []
  }
 ],
 "metadata": {
  "kernelspec": {
   "display_name": "Python 3",
   "language": "python",
   "name": "python3"
  },
  "language_info": {
   "codemirror_mode": {
    "name": "ipython",
    "version": 3
   },
   "file_extension": ".py",
   "mimetype": "text/x-python",
   "name": "python",
   "nbconvert_exporter": "python",
   "pygments_lexer": "ipython3",
   "version": "3.7.4"
  }
 },
 "nbformat": 4,
 "nbformat_minor": 2
}
